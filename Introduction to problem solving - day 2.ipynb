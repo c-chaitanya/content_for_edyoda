{
 "cells": [
  {
   "cell_type": "markdown",
   "id": "c20c08fb",
   "metadata": {},
   "source": [
    "## Agenda\n",
    "\n",
    "- Approach to solve problems\n",
    "- Computational thinking\n",
    "- logic building"
   ]
  },
  {
   "cell_type": "markdown",
   "id": "d6412f00",
   "metadata": {},
   "source": [
    "## Approach to solve any problem\n",
    "\n",
    "- Repeat the question, ask to interviewer to repeat\n",
    "- Write out examples\n",
    "- Describe your code, think out load.\n",
    "- Write your code\n",
    "- Atlast optimize"
   ]
  },
  {
   "cell_type": "code",
   "execution_count": 3,
   "id": "82274d01",
   "metadata": {},
   "outputs": [
    {
     "name": "stdout",
     "output_type": "stream",
     "text": [
      "odd\n"
     ]
    }
   ],
   "source": [
    "# 1. given a number check if its even or odd\n",
    "\n",
    "def check_even_odd(n):\n",
    "    \"\"\"\n",
    "    program to check if a number is even odd\n",
    "    \"\"\"\n",
    "    if n%2 ==0:\n",
    "        print('even')\n",
    "    else:\n",
    "        print('odd')\n",
    "\n",
    "check_even_odd(3)"
   ]
  },
  {
   "cell_type": "code",
   "execution_count": 9,
   "id": "e88d327a",
   "metadata": {},
   "outputs": [
    {
     "name": "stdout",
     "output_type": "stream",
     "text": [
      "0 2 4 6 8 10 12 14 16 18 20 22 24 26 28 30 32 34 36 38 40 42 44 46 48 50 "
     ]
    }
   ],
   "source": [
    "# 2. print even number upto n\n",
    "\n",
    "def print_n_even(n):\n",
    "    for i in range(0,n+1):\n",
    "        if i%2 ==0:\n",
    "            print(i, end=' ')\n",
    "\n",
    "# print_n_even(50)\n",
    "\n",
    "\n",
    "def print_n_even_better(n):\n",
    "    for i in range(0, n+1, 2):\n",
    "        print(i, end=' ')\n",
    "\n",
    "print_n_even_better(50)"
   ]
  },
  {
   "cell_type": "raw",
   "id": "8b65e6eb",
   "metadata": {},
   "source": [
    "Hello!\n",
    "\n",
    "ABCDEFGHIJKLMNOPQRST\n",
    "abcdefghijklmnopqrst"
   ]
  },
  {
   "cell_type": "code",
   "execution_count": 11,
   "id": "808c2160",
   "metadata": {},
   "outputs": [
    {
     "name": "stdout",
     "output_type": "stream",
     "text": [
      "24\n"
     ]
    }
   ],
   "source": [
    "# 3. Count the number of capital letters in a file\n",
    "\n",
    "filename = \"/home/sage08ai/Desktop/1.txt\"\n",
    "\n",
    "def count_capital_letters(filename):\n",
    "    with open(filename, 'r') as file:\n",
    "        count = 0\n",
    "        text = file.read()\n",
    "        for letter in text:\n",
    "            if letter.isupper():\n",
    "                count = count + 1\n",
    "    print(count)\n",
    "count_capital_letters(filename)"
   ]
  },
  {
   "cell_type": "code",
   "execution_count": 18,
   "id": "6a863f5f",
   "metadata": {},
   "outputs": [
    {
     "name": "stdout",
     "output_type": "stream",
     "text": [
      "{'H': 2, 'e': 2, 'l': 3, 'o': 2, '!': 1, '\\n': 4, 'A': 1, 'B': 1, 'C': 1, 'D': 1, 'E': 1, 'F': 1, 'G': 1, 'I': 1, 'J': 1, 'K': 1, 'L': 1, 'M': 1, 'N': 1, 'O': 1, 'P': 1, 'Q': 1, 'R': 1, 'S': 1, 'T': 1, 'a': 1, 'b': 1, 'c': 1, 'd': 1, 'f': 1, 'g': 1, 'h': 1, 'i': 1, 'j': 1, 'k': 1, 'm': 1, 'n': 1, 'p': 1, 'q': 1, 'r': 1, 's': 1, 't': 1}\n"
     ]
    }
   ],
   "source": [
    "# 4. Count the number of all letters in a file\n",
    "\n",
    "filename = \"/home/sage08ai/Desktop/1.txt\"\n",
    "\n",
    "def count_capital_letters(filename):\n",
    "    with open(filename, 'r') as file:\n",
    "        dct = {}\n",
    "        text = file.read()\n",
    "        for letter in text:\n",
    "            if letter in dct:\n",
    "                dct[letter] += 1\n",
    "            else:\n",
    "                dct[letter] = 1\n",
    "    print(dct)\n",
    "            \n",
    "count_capital_letters(filename)"
   ]
  },
  {
   "cell_type": "code",
   "execution_count": 32,
   "id": "cfab6e97",
   "metadata": {},
   "outputs": [
    {
     "data": {
      "text/plain": [
       "'          '"
      ]
     },
     "execution_count": 32,
     "metadata": {},
     "output_type": "execute_result"
    }
   ],
   "source": [
    "s = \" \"\n",
    "s*10"
   ]
  },
  {
   "cell_type": "code",
   "execution_count": 30,
   "id": "e776b75b",
   "metadata": {},
   "outputs": [
    {
     "name": "stdout",
     "output_type": "stream",
     "text": [
      "   *\n",
      "  ***\n",
      " *****\n",
      "*******\n"
     ]
    }
   ],
   "source": [
    "# 5. print star triangle format\n",
    "def star_traingle(n):\n",
    "    for i in range(n):\n",
    "        #print((n-i-1), (2*i+1))\n",
    "        print(\" \"*(n-i-1) + '*'*(2*i + 1))\n",
    "\n",
    "star_traingle(4)"
   ]
  },
  {
   "cell_type": "code",
   "execution_count": 36,
   "id": "c98c1e40",
   "metadata": {},
   "outputs": [
    {
     "data": {
      "text/plain": [
       "False"
      ]
     },
     "execution_count": 36,
     "metadata": {},
     "output_type": "execute_result"
    }
   ],
   "source": [
    "# 6. Check if 2 numbers are anagrams \n",
    "# example1 salesman nameless\n",
    "# example2 danger garden\n",
    "# anagrams means 2 strings made of same characters with same frequecies\n",
    "\n",
    "def anagrams(str1, str2):\n",
    "    if len(str1) != len(str2):\n",
    "        return False\n",
    "    str1_count = {}\n",
    "    str2_count = {}\n",
    "    for char in str1:\n",
    "        if char in str1_count:\n",
    "            str1_count[char] += 1\n",
    "        else:\n",
    "            str1_count[char] = 1\n",
    "    for char in str2:\n",
    "        if char in str2_count:\n",
    "            str2_count[char] += 1\n",
    "        else:\n",
    "            str2_count[char] = 1\n",
    "    for key in str1_count:\n",
    "        if key not in str2_count or str1_count[key] != str2_count[key]:\n",
    "            return False\n",
    "    return True\n",
    "            \n",
    "anagrams('ganden', 'danger')"
   ]
  },
  {
   "cell_type": "code",
   "execution_count": 45,
   "id": "c026c228",
   "metadata": {},
   "outputs": [
    {
     "data": {
      "text/plain": [
       "True"
      ]
     },
     "execution_count": 45,
     "metadata": {},
     "output_type": "execute_result"
    }
   ],
   "source": [
    "from collections import Counter\n",
    "\n",
    "def anagrams(str1, str2):\n",
    "    if len(str1) != len(str2):\n",
    "        return False\n",
    "    return Counter(str1) == Counter(str2)\n",
    "\n",
    "anagrams('garden', 'danger')"
   ]
  },
  {
   "cell_type": "code",
   "execution_count": 47,
   "id": "b9e76aa9",
   "metadata": {},
   "outputs": [
    {
     "data": {
      "text/plain": [
       "Counter({'g': 1, 'a': 1, 'r': 1, 'd': 1, 'e': 1, 'n': 1})"
      ]
     },
     "execution_count": 47,
     "metadata": {},
     "output_type": "execute_result"
    }
   ],
   "source": [
    "Counter('garden')"
   ]
  },
  {
   "cell_type": "code",
   "execution_count": 38,
   "id": "49edea21",
   "metadata": {},
   "outputs": [
    {
     "data": {
      "text/plain": [
       "True"
      ]
     },
     "execution_count": 38,
     "metadata": {},
     "output_type": "execute_result"
    }
   ],
   "source": [
    "def anagrams(a,b):\n",
    "    if len(a) == len(b):\n",
    "        for i in a:\n",
    "            for j in b:\n",
    "                if i == j:\n",
    "                    return True\n",
    "    #print(\"yes\")\n",
    "    else:\n",
    "        return False\n",
    "\n",
    "anagrams(\"salesman\",\"nameless\")"
   ]
  },
  {
   "cell_type": "code",
   "execution_count": 40,
   "id": "b05c44e9",
   "metadata": {},
   "outputs": [
    {
     "data": {
      "text/plain": [
       "True"
      ]
     },
     "execution_count": 40,
     "metadata": {},
     "output_type": "execute_result"
    }
   ],
   "source": [
    "def anagrams(str1, str2):\n",
    "    if sorted(str1) == sorted(str2):\n",
    "        return True\n",
    "    else:\n",
    "        return False\n",
    "\n",
    "anagrams('garden', 'danger')"
   ]
  },
  {
   "cell_type": "code",
   "execution_count": 49,
   "id": "eab2c91e",
   "metadata": {},
   "outputs": [
    {
     "name": "stdout",
     "output_type": "stream",
     "text": [
      "3\n"
     ]
    }
   ],
   "source": [
    "# 7. Count no. of digits in a number\n",
    "\n",
    "def count_digits(n):\n",
    "    count = 0\n",
    "    while n > 0:\n",
    "        n = n // 10\n",
    "        count = count+1\n",
    "    print(count)\n",
    "\n",
    "count_digits(189)"
   ]
  },
  {
   "cell_type": "code",
   "execution_count": 56,
   "id": "33a10c25",
   "metadata": {},
   "outputs": [
    {
     "data": {
      "text/plain": [
       "True"
      ]
     },
     "execution_count": 56,
     "metadata": {},
     "output_type": "execute_result"
    }
   ],
   "source": [
    "# 8. Given a number and a digit, check if digit accours in number\n",
    "\n",
    "def check_digit_in_number(n, digit):\n",
    "    while n != 0:\n",
    "        rem = n % 10\n",
    "        if rem == digit:\n",
    "            return True\n",
    "        n = n // 10\n",
    "    else:\n",
    "        return False\n",
    "\n",
    "check_digit_in_number(1895, 5)\n",
    "\n"
   ]
  },
  {
   "cell_type": "code",
   "execution_count": 57,
   "id": "188d3e64",
   "metadata": {},
   "outputs": [
    {
     "data": {
      "text/plain": [
       "2"
      ]
     },
     "execution_count": 57,
     "metadata": {},
     "output_type": "execute_result"
    }
   ],
   "source": [
    "# 9. Given a number and a digit, count occurances of digit in number\n",
    "\n",
    "def count_digit_in_number(n, digit):\n",
    "    count = 0\n",
    "    while n != 0:\n",
    "        rem = n % 10\n",
    "        if rem == digit:\n",
    "            count = count + 1\n",
    "        n = n // 10\n",
    "    return count\n",
    "\n",
    "count_digit_in_number(18955, 5)"
   ]
  },
  {
   "cell_type": "code",
   "execution_count": 65,
   "id": "9c2a4e2d",
   "metadata": {},
   "outputs": [
    {
     "data": {
      "text/plain": [
       "9"
      ]
     },
     "execution_count": 65,
     "metadata": {},
     "output_type": "execute_result"
    }
   ],
   "source": [
    "# 10. Return first digit of number\n",
    "\n",
    "def func(n):\n",
    "    while n >= 10:\n",
    "        n = n//10\n",
    "    return int(n)\n",
    "\n",
    "func(9018)"
   ]
  },
  {
   "cell_type": "code",
   "execution_count": 69,
   "id": "1978cd2b",
   "metadata": {},
   "outputs": [
    {
     "data": {
      "text/plain": [
       "72"
      ]
     },
     "execution_count": 69,
     "metadata": {},
     "output_type": "execute_result"
    }
   ],
   "source": [
    "# 11. Product of digits of number\n",
    "\n",
    "def func(n):\n",
    "    prod = 1\n",
    "    while n !=0:\n",
    "        prod = prod * (n%10)\n",
    "        n = n // 10\n",
    "    return prod\n",
    "    \n",
    "func(9118)"
   ]
  },
  {
   "cell_type": "code",
   "execution_count": 70,
   "id": "0286fdca",
   "metadata": {},
   "outputs": [
    {
     "name": "stdout",
     "output_type": "stream",
     "text": [
      "8\n",
      "81\n",
      "811\n",
      "8119\n"
     ]
    },
    {
     "data": {
      "text/plain": [
       "8119"
      ]
     },
     "execution_count": 70,
     "metadata": {},
     "output_type": "execute_result"
    }
   ],
   "source": [
    "# 12. Reverse of a number\n",
    "def func(n):\n",
    "    rev = 0\n",
    "    while n !=0:\n",
    "        rem = n%10\n",
    "        rev = rev*10 +rem\n",
    "        print(rev)\n",
    "        n = n//10\n",
    "    return rev\n",
    "\n",
    "func(9118)"
   ]
  },
  {
   "cell_type": "code",
   "execution_count": 82,
   "id": "f0c7f9c3",
   "metadata": {},
   "outputs": [
    {
     "name": "stdout",
     "output_type": "stream",
     "text": [
      "[1, 2, 5, 10]\n"
     ]
    }
   ],
   "source": [
    "# 13. All factors of a number\n",
    "#factors of 8 are 1248\n",
    "\n",
    "def factors(n):\n",
    "    l=[]\n",
    "    for i in range(1,(n//2)+1):\n",
    "        if n%i==0:\n",
    "            l.append(i)\n",
    "    l.append(n)\n",
    "    print(l)\n",
    "\n",
    "factors(10)"
   ]
  }
 ],
 "metadata": {
  "kernelspec": {
   "display_name": "Python 3 (ipykernel)",
   "language": "python",
   "name": "python3"
  },
  "language_info": {
   "codemirror_mode": {
    "name": "ipython",
    "version": 3
   },
   "file_extension": ".py",
   "mimetype": "text/x-python",
   "name": "python",
   "nbconvert_exporter": "python",
   "pygments_lexer": "ipython3",
   "version": "3.7.10"
  }
 },
 "nbformat": 4,
 "nbformat_minor": 5
}
