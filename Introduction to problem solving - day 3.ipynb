{
 "cells": [
  {
   "cell_type": "code",
   "execution_count": 6,
   "id": "624a9ce9",
   "metadata": {},
   "outputs": [
    {
     "data": {
      "text/plain": [
       "24"
      ]
     },
     "execution_count": 6,
     "metadata": {},
     "output_type": "execute_result"
    }
   ],
   "source": [
    "# 14. Factorial of a number\n",
    "\n",
    "def factorial(n):\n",
    "    fact = 1\n",
    "    if n<0:\n",
    "        return 0\n",
    "    elif n == 0 or n ==1:\n",
    "        return 1\n",
    "    else:\n",
    "        for i in range(1, n+1):\n",
    "            fact = fact * i\n",
    "        return fact\n",
    "    \n",
    "    \n",
    "factorial(4)"
   ]
  },
  {
   "cell_type": "code",
   "execution_count": 7,
   "id": "d755b15f",
   "metadata": {},
   "outputs": [
    {
     "data": {
      "text/plain": [
       "24"
      ]
     },
     "execution_count": 7,
     "metadata": {},
     "output_type": "execute_result"
    }
   ],
   "source": [
    "def factorial(n):\n",
    "    return 1 if (n==0 or n==1) else n *factorial(n-1)\n",
    "factorial(4)"
   ]
  },
  {
   "cell_type": "code",
   "execution_count": 9,
   "id": "9c0bbc3f",
   "metadata": {},
   "outputs": [
    {
     "data": {
      "text/plain": [
       "78.5"
      ]
     },
     "execution_count": 9,
     "metadata": {},
     "output_type": "execute_result"
    }
   ],
   "source": [
    "# 15. area of circle\n",
    "\n",
    "def circle_area(r):\n",
    "    return 3.14 * (r**2)\n",
    "    \n",
    "circle_area(5)"
   ]
  },
  {
   "cell_type": "code",
   "execution_count": 14,
   "id": "455d1ec8",
   "metadata": {},
   "outputs": [
    {
     "name": "stdout",
     "output_type": "stream",
     "text": [
      "SFCG\n"
     ]
    }
   ],
   "source": [
    "# 16. Convert string to uppercase without using string methods\n",
    "\n",
    "def upper(s):\n",
    "    upper_str = ''\n",
    "    for i in s:\n",
    "        upper_str = upper_str + chr(ord(i) - 32)\n",
    "    print(upper_str)\n",
    "\n",
    "upper('sfcg')"
   ]
  },
  {
   "cell_type": "code",
   "execution_count": 11,
   "id": "54a566a2",
   "metadata": {},
   "outputs": [
    {
     "name": "stdout",
     "output_type": "stream",
     "text": [
      "65\n",
      "97\n",
      "90\n",
      "122\n"
     ]
    }
   ],
   "source": [
    "print(ord('A'))\n",
    "print(ord('a'))\n",
    "print(ord('Z'))\n",
    "print(ord('z'))"
   ]
  },
  {
   "cell_type": "code",
   "execution_count": 12,
   "id": "0b668af6",
   "metadata": {},
   "outputs": [
    {
     "data": {
      "text/plain": [
       "32"
      ]
     },
     "execution_count": 12,
     "metadata": {},
     "output_type": "execute_result"
    }
   ],
   "source": [
    "97-65\n"
   ]
  },
  {
   "cell_type": "code",
   "execution_count": 20,
   "id": "4a686a2d",
   "metadata": {},
   "outputs": [
    {
     "name": "stdout",
     "output_type": "stream",
     "text": [
      "4.242640687119285\n",
      "inside\n"
     ]
    }
   ],
   "source": [
    "# 17. given a point check if it lies inside circle\n",
    "from math import sqrt\n",
    "\n",
    "def inside_circle(a, r, b):\n",
    "    dist = sqrt((a[0]-b[0])**2 + (a[1]-b[1])**2)\n",
    "    print(dist)\n",
    "    if dist < r:\n",
    "        print(\"inside\")\n",
    "    else:\n",
    "        print('outside')\n",
    "    \n",
    "inside_circle([0,0],5,[3,3])"
   ]
  },
  {
   "cell_type": "code",
   "execution_count": 22,
   "id": "716f5399",
   "metadata": {},
   "outputs": [
    {
     "name": "stdout",
     "output_type": "stream",
     "text": [
      "inside\n"
     ]
    }
   ],
   "source": [
    "# 18. given a point check if it lies inside rectange\n",
    "\n",
    "def inside_rectangle(ulx, uly, lrx, lry, myx, myy):\n",
    "    if myx > ulx and myx < lrx and myy < uly and myy >lry:\n",
    "        print('inside')\n",
    "    else:\n",
    "        print('outside')\n",
    "    \n",
    "\n",
    "inside_rectangle(1,4,3,2,2,3)"
   ]
  },
  {
   "cell_type": "code",
   "execution_count": 28,
   "id": "20258153",
   "metadata": {},
   "outputs": [
    {
     "name": "stdout",
     "output_type": "stream",
     "text": [
      "x is  9\n",
      "y is 9\n",
      "z is  9\n",
      "x is  9\n",
      "y is 9\n",
      "z is  1\n",
      "x is  9\n",
      "y is 9\n",
      "z is  16\n",
      "x is  9\n",
      "y is 9\n",
      "z is  36\n",
      "x is  9\n",
      "y is 9\n",
      "z is  25\n",
      "x is  9\n",
      "y is 1\n",
      "z is  9\n",
      "x is  9\n",
      "y is 1\n",
      "z is  1\n",
      "x is  9\n",
      "y is 1\n",
      "z is  16\n",
      "x is  9\n",
      "y is 1\n",
      "z is  36\n",
      "x is  9\n",
      "y is 1\n",
      "z is  25\n",
      "x is  9\n",
      "y is 16\n",
      "z is  9\n",
      "x is  9\n",
      "y is 16\n",
      "z is  1\n",
      "x is  9\n",
      "y is 16\n",
      "z is  16\n",
      "x is  9\n",
      "y is 16\n",
      "z is  36\n",
      "x is  9\n",
      "y is 16\n",
      "z is  25\n",
      "(3, 4, 5)\n"
     ]
    }
   ],
   "source": [
    "# 17. pythagorean triples\n",
    "# https://www.geeksforgeeks.org/find-pythagorean-triplet-in-an-unsorted-array/\n",
    "\n",
    "def pythagorean_triples(lst):\n",
    "    for i in range(len(lst)):\n",
    "        for j in range(len(lst)):\n",
    "            for k in range(len(lst)):\n",
    "                x = lst[i] * lst[i]\n",
    "                print(\"x is \", x)\n",
    "                y = lst[j] * lst[j]\n",
    "                print(\"y is\", y)\n",
    "                z = lst[k] * lst[k]\n",
    "                print(\"z is \", z)\n",
    "                if x == y+z or y == x+z or z==x+y:\n",
    "                    return lst[i], lst[j], lst[k]\n",
    "    return 0\n",
    "    \n",
    "    \n",
    "a = pythagorean_triples([3, 1, 4, 6, 5])\n",
    "print(a)\n",
    "ar1 = [3, 1, 4, 6, 5]\n",
    "ar2 = [8, 6, 10]\n",
    "ar3 = [5, 12, 13]\n",
    "ar4 = [15, 8, 17]\n",
    "ar5 = [12, 16, 20]"
   ]
  },
  {
   "cell_type": "markdown",
   "id": "af0ad5e1",
   "metadata": {},
   "source": [
    "## 18. infix to postfix\n",
    "\n",
    "Examples taken from http://www.cs.kent.edu/~nmadi/CS23001/fix-Quiz.pdf\n",
    "rules taken from https://www.youtube.com/watch?v=8QxlrRws9OI&t=227s\n",
    "\n",
    "- Print operands as they arrive\n",
    "- if incoming symbol is ( push it to stack\n",
    "- if incoming symbol is ) pop the stack and print operators till ( encounters\n",
    "- if incoming symbol has higher precedence than the top of the stack, push to stack\n",
    "- if incoming symbol has lower precedence than the top of the stack, pop and print the stack. Then test the incoming operator against the new top of the stack\n",
    "-  if incoming symbol has equal precedence with the top of the stack, use associavity rule\n",
    "- at the end of the expression pop and print all operators of stack\n",
    "\n",
    "# associavity\n",
    "- if associavity is left to right then pop and print, push into stack the incoming operator\n",
    "- if associavity is right to left push into stack the incoming operator"
   ]
  },
  {
   "cell_type": "code",
   "execution_count": 41,
   "id": "c87ba9fe",
   "metadata": {},
   "outputs": [
    {
     "name": "stdout",
     "output_type": "stream",
     "text": [
      "h\n",
      "e\n",
      "l\n",
      "l\n",
      "o\n",
      " \n",
      "w\n",
      "o\n",
      "r\n",
      "l\n",
      "d\n"
     ]
    }
   ],
   "source": [
    "s = \"hello world\"\n",
    "for i in s:\n",
    "    print(i)"
   ]
  },
  {
   "cell_type": "code",
   "execution_count": 57,
   "id": "b2bbae9f",
   "metadata": {},
   "outputs": [
    {
     "name": "stdout",
     "output_type": "stream",
     "text": [
      "exp is  (A+(B*C))\n"
     ]
    },
    {
     "data": {
      "text/plain": [
       "'ABC*+'"
      ]
     },
     "execution_count": 57,
     "metadata": {},
     "output_type": "execute_result"
    }
   ],
   "source": [
    "def notgreater(stack, i):\n",
    "    precedence = {'+': 1, '-': 1, '%':2, '/':2, '*':2, '^':3}\n",
    "    if stack[-1] == '(':\n",
    "        return False\n",
    "    if precedence[i] <= precedence[stack[-1]]:\n",
    "        return True\n",
    "    else:\n",
    "        return False\n",
    "\n",
    "def infixToPostfix(exp):\n",
    "    \n",
    "    stack = []\n",
    "    output = \"\"\n",
    "    exp = exp.replace(' ', '')\n",
    "    print(\"exp is \", exp)\n",
    "    for i in exp:\n",
    "        if i.isalnum() == True:\n",
    "            output = output+i\n",
    "        elif i == '(':\n",
    "            stack.append(i)\n",
    "        elif i == ')':\n",
    "            while(len(stack) !=0 and stack[-1] != '('):\n",
    "                n = stack.pop()\n",
    "                output = output + n\n",
    "            else:\n",
    "                m=stack.pop()\n",
    "        else:\n",
    "            while(len(stack)!=0 and notgreater(stack, i)):\n",
    "                o = stack.pop()\n",
    "                output = output + o\n",
    "            stack.append(i)\n",
    "    while(len(stack)!=0):\n",
    "        g = stack.pop()\n",
    "        output = output + g\n",
    "    return output\n",
    "\n",
    "    \n",
    "infixToPostfix('( A + ( B * C ) )')"
   ]
  },
  {
   "cell_type": "code",
   "execution_count": 58,
   "id": "fdcdc0a1",
   "metadata": {},
   "outputs": [
    {
     "name": "stdout",
     "output_type": "stream",
     "text": [
      "exp is  x^y/(5*z)+2\n",
      "exp is  a+b*(c^d-e)^(f+g*h)-i\n",
      "exp is  (A+(B*C))\n",
      "exp is  ((A+(B*C))/(DE))\n",
      "exp is  ((A+B)*(C+E))\n",
      "exp is  (A*(B*(((C+A)+B)*C)))\n"
     ]
    }
   ],
   "source": [
    "assert infixToPostfix('x^y/(5*z)+2') == 'xy^5z*/2+', \"case1 failed\"\n",
    "\n",
    "assert infixToPostfix('a+b*(c^d-e)^(f+g*h)-i') == 'abcd^e-fgh*+^*+i-', \"case2 failed\"\n",
    "\n",
    "assert infixToPostfix('( A + ( B * C ) )') == 'ABC*+', \"case3 failed\"\n",
    "\n",
    "assert infixToPostfix('( ( A + ( B * C ) ) / ( D E ) ) ') == 'ABC*+DE/', \"case4 failed\"\n",
    "\n",
    "assert infixToPostfix('( ( A + B ) * ( C + E ) )') == 'AB+CE+*', \"case5 failed\"\n",
    "\n",
    "assert infixToPostfix('( A * ( B * ( ( ( C + A ) + B ) * C ) ) )') == 'ABCA+B+C***', \"case6 failed\""
   ]
  },
  {
   "cell_type": "code",
   "execution_count": null,
   "id": "d7a276d6",
   "metadata": {},
   "outputs": [],
   "source": []
  },
  {
   "cell_type": "code",
   "execution_count": null,
   "id": "cf4f0ae5",
   "metadata": {},
   "outputs": [],
   "source": []
  },
  {
   "cell_type": "markdown",
   "id": "ae278e3b",
   "metadata": {},
   "source": [
    "## 19. infix to prefix\n",
    "\n",
    "- reverse the given string\n",
    "- Print operands as they arrive\n",
    "- if incoming symbol is ) push it to stack\n",
    "- if incoming symbol is ( pop the stack and print operators till ) encounters\n",
    "- if incoming symbol has higher precedence than the top of the stack, push to stack\n",
    "- if incoming symbol has lower precedence than the top of the stack, pop and print the stack. Then test the incoming operator against the new top of the stack\n",
    "- if incoming symbol has equal precedence with the top of the stack, use associavity rule\n",
    "- at the end of the expression pop and print all operators of stack\n",
    "\n",
    "# associavity\n",
    "- if associavity is left to right then push into stack the incoming operator\n",
    "- if associavity is right to left then pop and print, push into stack the incoming operator"
   ]
  },
  {
   "cell_type": "markdown",
   "id": "9632bfb2",
   "metadata": {},
   "source": []
  },
  {
   "cell_type": "code",
   "execution_count": 68,
   "id": "d930fd40",
   "metadata": {},
   "outputs": [],
   "source": [
    "def notGreater(stack, i):\n",
    "    precedence = {'+':1, '-':1, '*':2, '/':2, '%':2, '^':3}\n",
    "    if stack[-1] == ')':\n",
    "        return False\n",
    "    a = precedence[i]\n",
    "    b = precedence[stack[-1]] \n",
    "    if a  <= b:\n",
    "        return True\n",
    "    else:\n",
    "        return False\n",
    "\n",
    "\n",
    "def infixToprefix(exp):\n",
    "    stack = []\n",
    "    exp = exp[::-1]\n",
    "    output = \"\"\n",
    "    exp = exp.replace(' ', '')\n",
    "    for i in exp:\n",
    "\n",
    "        if i.isalnum() == True: # check if operand add to output\n",
    "            print(i,\"~ Operand push to stack\")\n",
    "            output = output + i\n",
    "\n",
    "        # If the character is an '(', push it to stack \n",
    "        elif i  == ')':\n",
    "            stack.append(i)\n",
    "\n",
    "        elif i == '(':  # if ')' pop till '('\n",
    "            while(len(stack) != 0 and stack[-1] != ')'):\n",
    "                n = stack.pop() \n",
    "                output = output + n\n",
    "                print(n, \"~ Operator popped from stack\")\n",
    "            else:\n",
    "                x = stack.pop()\n",
    "                print(x, \"Popping and deleting (\")\n",
    "        else: \n",
    "            while(len(stack) != 0 and notGreater(stack, i)):\n",
    "                c = stack.pop()\n",
    "                output = output + c\n",
    "                print(c,\"Operator popped after checking precedence from stack\")\n",
    "            stack.append(i)\n",
    "            print(i,\"Operator pushed to stack\")\n",
    "\n",
    "    # pop all the operator from the stack \n",
    "    while len(stack) != 0:\n",
    "        xx = stack.pop()\n",
    "        output = output + xx\n",
    "        print(xx,\"~ pop at last\")\n",
    "    return output[::-1]\n"
   ]
  },
  {
   "cell_type": "markdown",
   "id": "69d3d08b",
   "metadata": {},
   "source": [
    "## The code is correct but did not work in video because the below test cases were wrong"
   ]
  },
  {
   "cell_type": "code",
   "execution_count": 70,
   "id": "53fed8d0",
   "metadata": {},
   "outputs": [
    {
     "name": "stdout",
     "output_type": "stream",
     "text": [
      "C ~ Operand push to stack\n",
      "* Operator pushed to stack\n",
      "B ~ Operand push to stack\n",
      "* ~ Operator popped from stack\n",
      ") Popping and deleting (\n",
      "+ Operator pushed to stack\n",
      "X ~ Operand push to stack\n",
      "A ~ Operand push to stack\n",
      "+ ~ pop at last\n",
      "case1 passed\n",
      "E ~ Operand push to stack\n",
      "D ~ Operand push to stack\n",
      ") Popping and deleting (\n",
      "/ Operator pushed to stack\n",
      "C ~ Operand push to stack\n",
      "* Operator pushed to stack\n",
      "B ~ Operand push to stack\n",
      "* ~ Operator popped from stack\n",
      ") Popping and deleting (\n",
      "+ Operator pushed to stack\n",
      "X ~ Operand push to stack\n",
      "A ~ Operand push to stack\n",
      "+ ~ Operator popped from stack\n",
      ") Popping and deleting (\n",
      "/ ~ pop at last\n",
      "case2 passed\n",
      "E ~ Operand push to stack\n",
      "+ Operator pushed to stack\n",
      "C ~ Operand push to stack\n",
      "+ ~ Operator popped from stack\n",
      ") Popping and deleting (\n",
      "* Operator pushed to stack\n",
      "B ~ Operand push to stack\n",
      "+ Operator pushed to stack\n",
      "A ~ Operand push to stack\n",
      "+ ~ Operator popped from stack\n",
      ") Popping and deleting (\n",
      "* ~ pop at last\n",
      "case3 passed\n",
      "C ~ Operand push to stack\n",
      "* Operator pushed to stack\n",
      "B ~ Operand push to stack\n",
      "* ~ Operator popped from stack\n",
      ") Popping and deleting (\n",
      "+ Operator pushed to stack\n",
      "A ~ Operand push to stack\n",
      "+ ~ pop at last\n",
      "case4 passed\n"
     ]
    }
   ],
   "source": [
    "assert infixToprefix(' AX + ( B * C )') == '+AX*BC', \"case1 failed\"\n",
    "print('case1 passed')\n",
    "\n",
    "assert infixToprefix(' ( AX + ( B * C ) ) / ( D E )') == '/+AX*BCDE', \"case2 failed\"\n",
    "print('case2 passed')\n",
    "\n",
    "assert infixToprefix(' ( A + B ) * ( C + E ) ') == '*+AB+CE', \"case3 failed\"\n",
    "print('case3 passed')\n",
    "\n",
    "assert infixToprefix(' A + ( B * C )') == '+A*BC', \"case4 failed\"\n",
    "print('case4 passed')"
   ]
  },
  {
   "cell_type": "code",
   "execution_count": null,
   "id": "ffe37ee9",
   "metadata": {},
   "outputs": [],
   "source": []
  },
  {
   "cell_type": "code",
   "execution_count": null,
   "id": "d29dcf01",
   "metadata": {},
   "outputs": [],
   "source": []
  }
 ],
 "metadata": {
  "kernelspec": {
   "display_name": "Python 3 (ipykernel)",
   "language": "python",
   "name": "python3"
  },
  "language_info": {
   "codemirror_mode": {
    "name": "ipython",
    "version": 3
   },
   "file_extension": ".py",
   "mimetype": "text/x-python",
   "name": "python",
   "nbconvert_exporter": "python",
   "pygments_lexer": "ipython3",
   "version": "3.7.10"
  }
 },
 "nbformat": 4,
 "nbformat_minor": 5
}
