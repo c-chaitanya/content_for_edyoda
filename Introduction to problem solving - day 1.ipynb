{
 "cells": [
  {
   "cell_type": "markdown",
   "id": "56803808",
   "metadata": {},
   "source": [
    "## Topics for this series\n",
    "\n",
    "- Clean python code practices\n",
    "- Python interview question (theory)\n",
    "- Python approach to solve problems (practical)"
   ]
  },
  {
   "cell_type": "markdown",
   "id": "6d3f82e7",
   "metadata": {},
   "source": [
    "## Best Practices to Write Clean Python Code\n",
    "\n",
    "- Use pep8 format to write code\n",
    "- Use meaningfull and short variable names\n",
    "- Write docstrings\n",
    "- write coments whereever needed\n",
    "- Write modular code\n",
    "- Use the right data structure\n",
    "- Dont reinvent the wheel, use standard libraries"
   ]
  },
  {
   "cell_type": "markdown",
   "id": "c7e582cc",
   "metadata": {},
   "source": [
    "## Python interview question (theory)"
   ]
  },
  {
   "cell_type": "raw",
   "id": "816cd381",
   "metadata": {},
   "source": [
    "1) What are the common built-in data types in Python?\n",
    "A) mutable   list set dict \n",
    "   immutable str, int, float, complex, boolean"
   ]
  },
  {
   "cell_type": "raw",
   "id": "82ef9d58",
   "metadata": {},
   "source": [
    "2) What are reserved keywords in python ?\n",
    "A) Reserved by python and cannot be used as identifiers"
   ]
  },
  {
   "cell_type": "code",
   "execution_count": 1,
   "id": "8e16426e",
   "metadata": {},
   "outputs": [
    {
     "name": "stdout",
     "output_type": "stream",
     "text": [
      "['False', 'None', 'True', 'and', 'as', 'assert', 'async', 'await', 'break', 'class', 'continue', 'def', 'del', 'elif', 'else', 'except', 'finally', 'for', 'from', 'global', 'if', 'import', 'in', 'is', 'lambda', 'nonlocal', 'not', 'or', 'pass', 'raise', 'return', 'try', 'while', 'with', 'yield']\n"
     ]
    }
   ],
   "source": [
    "import keyword\n",
    "print(keyword.kwlist)"
   ]
  },
  {
   "cell_type": "code",
   "execution_count": 2,
   "id": "ee72be4e",
   "metadata": {},
   "outputs": [
    {
     "name": "stdout",
     "output_type": "stream",
     "text": [
      "5\n"
     ]
    }
   ],
   "source": [
    "a = 5\n",
    "print(a)"
   ]
  },
  {
   "cell_type": "raw",
   "id": "e2876643",
   "metadata": {},
   "source": [
    "3) What is the difference between list and tuple?\n",
    "A) list =  mutable, slow, list() / []\n",
    "   tuples = immutable, fast, tuple() / ()"
   ]
  },
  {
   "cell_type": "raw",
   "id": "0c95991d",
   "metadata": {},
   "source": [
    "4) what is list comprehension?\n",
    "A) "
   ]
  },
  {
   "cell_type": "code",
   "execution_count": 3,
   "id": "bd40a376",
   "metadata": {},
   "outputs": [
    {
     "name": "stdout",
     "output_type": "stream",
     "text": [
      "CPU times: user 106 µs, sys: 12 µs, total: 118 µs\n",
      "Wall time: 121 µs\n"
     ]
    }
   ],
   "source": [
    "%%time\n",
    "lst = range(1000)\n",
    "lst2 = []\n",
    "for i in lst:\n",
    "    if i %2 == 0:\n",
    "        lst2.append(i)"
   ]
  },
  {
   "cell_type": "code",
   "execution_count": 4,
   "id": "a8807db1",
   "metadata": {},
   "outputs": [
    {
     "name": "stdout",
     "output_type": "stream",
     "text": [
      "CPU times: user 97 µs, sys: 11 µs, total: 108 µs\n",
      "Wall time: 113 µs\n"
     ]
    }
   ],
   "source": [
    "%%time\n",
    "lst2 = [i for i in lst if i %2 == 0]"
   ]
  },
  {
   "cell_type": "raw",
   "id": "2036d894",
   "metadata": {},
   "source": [
    "5) Can i use dict comprehension\n",
    "A) "
   ]
  },
  {
   "cell_type": "code",
   "execution_count": 5,
   "id": "66b3b613",
   "metadata": {},
   "outputs": [
    {
     "data": {
      "text/plain": [
       "{1: 'apple', 2: 'all'}"
      ]
     },
     "execution_count": 5,
     "metadata": {},
     "output_type": "execute_result"
    }
   ],
   "source": [
    "dct = {1:'apple', 2: 'all', 3: 'cat'}\n",
    "dct2 = {key:value for key,value in dct.items() if value.startswith('a')}\n",
    "dct2"
   ]
  },
  {
   "cell_type": "code",
   "execution_count": 6,
   "id": "685516f0",
   "metadata": {},
   "outputs": [
    {
     "data": {
      "text/plain": [
       "dict_values(['apple', 'all', 'cat'])"
      ]
     },
     "execution_count": 6,
     "metadata": {},
     "output_type": "execute_result"
    }
   ],
   "source": [
    "dct = {1:'apple', 2: 'all', 3: 'cat'}\n",
    "dct.values()"
   ]
  },
  {
   "cell_type": "raw",
   "id": "ddd12eb8",
   "metadata": {},
   "source": [
    "6) Can i use tuple comprehension\n",
    "A) "
   ]
  },
  {
   "cell_type": "code",
   "execution_count": 7,
   "id": "2ae4f02d",
   "metadata": {},
   "outputs": [
    {
     "data": {
      "text/plain": [
       "tuple"
      ]
     },
     "execution_count": 7,
     "metadata": {},
     "output_type": "execute_result"
    }
   ],
   "source": [
    "a = (1,2,3)\n",
    "type(a)\n",
    "# a[3] = 4  # TypeError: 'tuple' object does not support item assignment"
   ]
  },
  {
   "cell_type": "code",
   "execution_count": 8,
   "id": "c9961e45",
   "metadata": {},
   "outputs": [
    {
     "name": "stdout",
     "output_type": "stream",
     "text": [
      "{1, 4, 9, 16, 25}\n",
      "<class 'set'>\n"
     ]
    },
    {
     "ename": "TypeError",
     "evalue": "'set' object does not support item assignment",
     "output_type": "error",
     "traceback": [
      "\u001b[0;31m---------------------------------------------------------------------------\u001b[0m",
      "\u001b[0;31mTypeError\u001b[0m                                 Traceback (most recent call last)",
      "\u001b[0;32m/tmp/ipykernel_25940/2686550275.py\u001b[0m in \u001b[0;36m<module>\u001b[0;34m\u001b[0m\n\u001b[1;32m      2\u001b[0m \u001b[0mprint\u001b[0m\u001b[0;34m(\u001b[0m\u001b[0msq\u001b[0m\u001b[0;34m)\u001b[0m\u001b[0;34m\u001b[0m\u001b[0;34m\u001b[0m\u001b[0m\n\u001b[1;32m      3\u001b[0m \u001b[0mprint\u001b[0m\u001b[0;34m(\u001b[0m\u001b[0mtype\u001b[0m\u001b[0;34m(\u001b[0m\u001b[0msq\u001b[0m\u001b[0;34m)\u001b[0m\u001b[0;34m)\u001b[0m\u001b[0;34m\u001b[0m\u001b[0;34m\u001b[0m\u001b[0m\n\u001b[0;32m----> 4\u001b[0;31m \u001b[0msq\u001b[0m\u001b[0;34m[\u001b[0m\u001b[0;36m3\u001b[0m\u001b[0;34m]\u001b[0m \u001b[0;34m=\u001b[0m \u001b[0;36m5\u001b[0m\u001b[0;34m\u001b[0m\u001b[0;34m\u001b[0m\u001b[0m\n\u001b[0m",
      "\u001b[0;31mTypeError\u001b[0m: 'set' object does not support item assignment"
     ]
    }
   ],
   "source": [
    "sq = {x**2 for x in [1,1,2,3,4,4,4,4,5,5,5,5,]} # Set Comprehension\n",
    "print(sq)\n",
    "print(type(sq))\n",
    "sq[3] = 5"
   ]
  },
  {
   "cell_type": "raw",
   "id": "47a7d1c1",
   "metadata": {},
   "source": [
    "7) What is string in python?\n",
    "A) strings are a sequence of characters, they are placed between \"\", '', \"\"\" \"\"\", '''"
   ]
  },
  {
   "cell_type": "raw",
   "id": "658aa242",
   "metadata": {},
   "source": [
    "8) string methods in python?\n",
    "A) "
   ]
  },
  {
   "cell_type": "code",
   "execution_count": null,
   "id": "a1d09b08",
   "metadata": {},
   "outputs": [],
   "source": [
    "help(str)"
   ]
  },
  {
   "cell_type": "code",
   "execution_count": null,
   "id": "729fa8c4",
   "metadata": {},
   "outputs": [],
   "source": [
    "dir(str)"
   ]
  },
  {
   "cell_type": "raw",
   "id": "69e665cb",
   "metadata": {},
   "source": [
    "9) lambda statements?\n",
    "A) anonymous func used to deine functions in one line\n",
    "   lamba arguments: expression"
   ]
  },
  {
   "cell_type": "code",
   "execution_count": 9,
   "id": "dd2fa484",
   "metadata": {},
   "outputs": [
    {
     "name": "stdout",
     "output_type": "stream",
     "text": [
      "5\n"
     ]
    }
   ],
   "source": [
    "add = lambda a,b: a+b\n",
    "print(add(2,3))"
   ]
  },
  {
   "cell_type": "raw",
   "id": "94f91aeb",
   "metadata": {},
   "source": [
    "10) What are local and global variables?\n",
    "A)  which has scope throughout the whole program is global variables\n",
    "   \n",
    "\n",
    "   local variable\n",
    "   --------------\n",
    "   which has scope only within a defined function is local variables\n",
    "   creted when a function starts and ends when function completes\n",
    "   these variables can only be accessed within the function"
   ]
  },
  {
   "cell_type": "raw",
   "id": "c0b2246e",
   "metadata": {},
   "source": [
    "11) What are generators?\n",
    "A) generator is a function which returns an iterator\n",
    "   it will definitely have atleast one yield statement"
   ]
  },
  {
   "cell_type": "raw",
   "id": "198a0c19",
   "metadata": {},
   "source": [
    "12) What are mutable and imutable data types?\n",
    "A)  data types which can be modified are called mutable"
   ]
  },
  {
   "cell_type": "raw",
   "id": "e2f52b6b",
   "metadata": {},
   "source": [
    "13) How do you open files in python?\n",
    "A) file=open('1.txt' ,mode) \n",
    "   file.close()\n",
    "   \n",
    "   with open (filename, mode) as fp:"
   ]
  },
  {
   "cell_type": "raw",
   "id": "6b91be3d",
   "metadata": {},
   "source": [
    "\n",
    "14) Map, Zip, Reduce, filter\n",
    "A) syntax map(fun, iter)\n",
    "   map iterates over all items in list and returns list with new items \n",
    "\n",
    "   syntax zip(iter, iter)\n",
    "   zip pairs 2 iterators together\n",
    "\n",
    "   syntax filter(fun, iter)\n",
    "   filters the given sequesnce with the help of a function that tests each element if the sequence is true or false\n",
    "\n",
    "   syntax reduce(fun, iter)\n",
    "   is used to apply a function to an iterable and reduces it to a simgle value"
   ]
  },
  {
   "cell_type": "code",
   "execution_count": 10,
   "id": "ba67e10e",
   "metadata": {},
   "outputs": [
    {
     "name": "stdout",
     "output_type": "stream",
     "text": [
      "[3, 4, 5, 6]\n",
      "[1, 2, 3]\n",
      "[5, 4]\n"
     ]
    }
   ],
   "source": [
    "# map\n",
    "def add2(a):\n",
    "    return a+2\n",
    "a = map(add2, [1,2,3,4])\n",
    "print(list(a))\n",
    "\n",
    "b = map(int, ['1', '2', '3'])\n",
    "print(list(b))\n",
    "\n",
    "c = map(len, ['apple', 'ball'])\n",
    "print(list(c))"
   ]
  },
  {
   "cell_type": "code",
   "execution_count": 11,
   "id": "3d0c2f0a",
   "metadata": {},
   "outputs": [
    {
     "name": "stdout",
     "output_type": "stream",
     "text": [
      "[(1, 'a'), (2, 'b'), (3, 'c')]\n"
     ]
    }
   ],
   "source": [
    "# zip\n",
    "a = [1, 2, 3, 4]\n",
    "b = ['a', 'b', 'c']\n",
    "z = zip(a, b)\n",
    "print(list(z))"
   ]
  },
  {
   "cell_type": "code",
   "execution_count": 12,
   "id": "d296943d",
   "metadata": {},
   "outputs": [
    {
     "name": "stdout",
     "output_type": "stream",
     "text": [
      "True\n",
      "[2, 4]\n"
     ]
    }
   ],
   "source": [
    "# filter\n",
    "print(2%2 == 0)\n",
    "def is_even(n):\n",
    "    return n%2 == 0\n",
    "a = filter(is_even, [2, 4, 5, 7, 9])\n",
    "print(list(a))"
   ]
  },
  {
   "cell_type": "code",
   "execution_count": 13,
   "id": "f9662bd8",
   "metadata": {},
   "outputs": [
    {
     "name": "stdout",
     "output_type": "stream",
     "text": [
      "01234\n"
     ]
    }
   ],
   "source": [
    "# reduce\n",
    "def add(a, b):\n",
    "    return a+b\n",
    "\n",
    "from functools import reduce\n",
    "lst = ['0', '1', '2', '3', '4']\n",
    "a = reduce(add, lst)\n",
    "print(a)"
   ]
  },
  {
   "cell_type": "raw",
   "id": "7f5d1150",
   "metadata": {},
   "source": [
    "15) How does break, continue and pass work?\n",
    "A) used in for loops"
   ]
  },
  {
   "cell_type": "code",
   "execution_count": 15,
   "id": "e76b3915",
   "metadata": {},
   "outputs": [
    {
     "name": "stdout",
     "output_type": "stream",
     "text": [
      "1\n",
      "im here\n",
      "2\n",
      "im here\n",
      "3\n"
     ]
    }
   ],
   "source": [
    "lst = [1, 2, 3, 44, 5]\n",
    "for i in lst:\n",
    "    print(i)\n",
    "    if i == 3:\n",
    "        break\n",
    "    print(\"im here\")"
   ]
  },
  {
   "cell_type": "code",
   "execution_count": 16,
   "id": "b4ad6d94",
   "metadata": {},
   "outputs": [
    {
     "name": "stdout",
     "output_type": "stream",
     "text": [
      "1\n",
      "im here\n",
      "2\n",
      "im here\n",
      "3\n",
      "im here\n",
      "44\n",
      "im here\n",
      "5\n",
      "im here\n"
     ]
    }
   ],
   "source": [
    "lst = [1, 2, 3, 44, 5]\n",
    "for i in lst:\n",
    "    print(i)\n",
    "    if i == 3:\n",
    "        pass\n",
    "    print(\"im here\")"
   ]
  },
  {
   "cell_type": "code",
   "execution_count": 17,
   "id": "973a7366",
   "metadata": {},
   "outputs": [
    {
     "name": "stdout",
     "output_type": "stream",
     "text": [
      "1\n",
      "im here\n",
      "2\n",
      "im here\n",
      "3\n",
      "44\n",
      "im here\n",
      "5\n",
      "im here\n"
     ]
    }
   ],
   "source": [
    "lst = [1, 2, 3, 44, 5]\n",
    "for i in lst:\n",
    "    print(i)\n",
    "    if i == 3:\n",
    "        continue\n",
    "    print(\"im here\")"
   ]
  },
  {
   "cell_type": "raw",
   "id": "1c4950c5",
   "metadata": {},
   "source": [
    "16) is, not and in operators?\n",
    "A)"
   ]
  },
  {
   "cell_type": "code",
   "execution_count": 18,
   "id": "fa9d8750",
   "metadata": {},
   "outputs": [
    {
     "name": "stdout",
     "output_type": "stream",
     "text": [
      "True\n",
      "False\n"
     ]
    },
    {
     "data": {
      "text/plain": [
       "True"
      ]
     },
     "execution_count": 18,
     "metadata": {},
     "output_type": "execute_result"
    }
   ],
   "source": [
    "lst = [1, 2, 3, 44, 5]\n",
    "print(1 in lst)\n",
    "print(6 in lst)\n",
    "\n",
    "6 is 6"
   ]
  },
  {
   "cell_type": "raw",
   "id": "caa0fde8",
   "metadata": {},
   "source": [
    "17) *args, **kwargs?\n",
    "A) "
   ]
  },
  {
   "cell_type": "code",
   "execution_count": 27,
   "id": "02e669ef",
   "metadata": {},
   "outputs": [
    {
     "name": "stdout",
     "output_type": "stream",
     "text": [
      "a is:  2\n",
      "b is:  3\n",
      "*args is  5 6 7\n"
     ]
    },
    {
     "data": {
      "text/plain": [
       "23"
      ]
     },
     "execution_count": 27,
     "metadata": {},
     "output_type": "execute_result"
    }
   ],
   "source": [
    "def add(a,b, *args):\n",
    "    print(\"a is: \", a)\n",
    "    print(\"b is: \", b)\n",
    "    print(\"*args is \", *args)\n",
    "    sum=a+b\n",
    "    for i in args:\n",
    "        sum+=i\n",
    "    return sum\n",
    "\n",
    "add(2, 3, 5 , 6, 7)"
   ]
  },
  {
   "cell_type": "code",
   "execution_count": 26,
   "id": "b20968d7",
   "metadata": {},
   "outputs": [
    {
     "name": "stdout",
     "output_type": "stream",
     "text": [
      "c is  3\n",
      "d is  0\n"
     ]
    },
    {
     "data": {
      "text/plain": [
       "6"
      ]
     },
     "execution_count": 26,
     "metadata": {},
     "output_type": "execute_result"
    }
   ],
   "source": [
    "def add(a=0, b=0, **kwargs):\n",
    "    c = kwargs.get('c', 0)\n",
    "    print(\"c is \", c)\n",
    "\n",
    "    d = kwargs.get('d', 0)\n",
    "    print(\"d is \", d)\n",
    "\n",
    "    return a+b+c+d\n",
    "\n",
    "add(a=1,b=2,c=3)"
   ]
  },
  {
   "cell_type": "raw",
   "id": "e134767a",
   "metadata": {},
   "source": [
    "18) How are classes created in Python?\n",
    "A) "
   ]
  },
  {
   "cell_type": "raw",
   "id": "998f9cdf",
   "metadata": {},
   "source": [
    "19) __init__()\n",
    "A) "
   ]
  },
  {
   "cell_type": "code",
   "execution_count": null,
   "id": "37a4b562",
   "metadata": {},
   "outputs": [],
   "source": [
    "class calc():\n",
    "    def __init__(self, a , b):\n",
    "        self.a = a\n",
    "        self.b = b\n",
    "\n",
    "    def add(self):\n",
    "        return self.a + self.b\n",
    "\n",
    "    def sub(self):\n",
    "        return self.a - self.b\n",
    "\n",
    "calc = calc(1,2)\n",
    "a = calc.add()\n",
    "print(a)"
   ]
  },
  {
   "cell_type": "raw",
   "id": "542482f9",
   "metadata": {},
   "source": [
    "20) Exception handling\n",
    "A) "
   ]
  },
  {
   "cell_type": "code",
   "execution_count": null,
   "id": "ca9805d3",
   "metadata": {},
   "outputs": [],
   "source": [
    "def add(a=0, b=0, **kwargs):\n",
    "    c = kwargs.get('c')\n",
    "    print(c)\n",
    "    try:\n",
    "        d = kwargs['d']\n",
    "    except:\n",
    "        d = 0\n",
    "    else:\n",
    "        d = 0\n",
    "\n",
    "    return a+b+c+d\n",
    "\n",
    "add(a=1,b=2,c=3)"
   ]
  },
  {
   "cell_type": "raw",
   "id": "6f0127a8",
   "metadata": {},
   "source": [
    "21) enumerate\n",
    "A) "
   ]
  },
  {
   "cell_type": "code",
   "execution_count": null,
   "id": "2f86a8ef",
   "metadata": {},
   "outputs": [],
   "source": [
    "lst = [1, 2,3,3,4,5]\n",
    "index = 0\n",
    "for i in lst:\n",
    "    print(index , i)\n",
    "    index = index+1"
   ]
  },
  {
   "cell_type": "code",
   "execution_count": null,
   "id": "085a1893",
   "metadata": {},
   "outputs": [],
   "source": [
    "lst = [1, 2,3,3,4,5]\n",
    "for index, value in enumerate(lst):\n",
    "    print(index, value)"
   ]
  },
  {
   "cell_type": "raw",
   "id": "51129652",
   "metadata": {},
   "source": [
    "22) How will you convert contents of list into a string?\n",
    "A) "
   ]
  },
  {
   "cell_type": "code",
   "execution_count": null,
   "id": "f36d3d4d",
   "metadata": {},
   "outputs": [],
   "source": [
    "lst = ['1', '2', '3']\n",
    "st = \"\".join(lst)\n",
    "print(st)"
   ]
  },
  {
   "cell_type": "raw",
   "id": "b70ccab9",
   "metadata": {},
   "source": [
    "23) Difference between the append() and extend() methods of a list?\n",
    "A) "
   ]
  },
  {
   "cell_type": "code",
   "execution_count": null,
   "id": "67065496",
   "metadata": {},
   "outputs": [],
   "source": [
    "lst = [1, 2,3]\n",
    "lst2 = [4, 5, 6]\n",
    "\n",
    "lst.append(6)\n",
    "print(lst)\n",
    "\n",
    "lst.extend(lst2)\n",
    "print(lst)\n",
    "\n",
    "# what if lst2 is a list of lists\n",
    "lst2 = [[4, 5, 6]]\n",
    "lst.extend(lst2)\n",
    "print(lst)"
   ]
  },
  {
   "cell_type": "code",
   "execution_count": null,
   "id": "6ac449e1",
   "metadata": {},
   "outputs": [],
   "source": []
  }
 ],
 "metadata": {
  "kernelspec": {
   "display_name": "Python 3 (ipykernel)",
   "language": "python",
   "name": "python3"
  },
  "language_info": {
   "codemirror_mode": {
    "name": "ipython",
    "version": 3
   },
   "file_extension": ".py",
   "mimetype": "text/x-python",
   "name": "python",
   "nbconvert_exporter": "python",
   "pygments_lexer": "ipython3",
   "version": "3.7.10"
  }
 },
 "nbformat": 4,
 "nbformat_minor": 5
}
